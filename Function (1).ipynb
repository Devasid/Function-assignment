{
  "nbformat": 4,
  "nbformat_minor": 0,
  "metadata": {
    "colab": {
      "provenance": []
    },
    "kernelspec": {
      "name": "python3",
      "display_name": "Python 3"
    },
    "language_info": {
      "name": "python"
    }
  },
  "cells": [
    {
      "cell_type": "markdown",
      "source": [
        "1.What is the difference between a function and a method in Python?"
      ],
      "metadata": {
        "id": "D7u_B5hK2Lnb"
      }
    },
    {
      "cell_type": "markdown",
      "source": [
        ">Difference between Function and methods:\n",
        "\n",
        ">>1. A function is an independent block of code, whereas a method is a function that is associated with an object or class.\n",
        "\n",
        ">>2. A function can be called directly using its name, whereas a method is called using the object or class it belongs to.\n",
        "\n",
        ">>3. A function does not automatically take self or cls as the first parameter, whereas a method automatically receives the object (self) or class (cls) as the first argument.\n",
        "\n",
        ">>4. A function is defined outside of a class (unless manually placed inside), whereas a method is defined inside a class."
      ],
      "metadata": {
        "id": "FGZWPekj2PqD"
      }
    },
    {
      "cell_type": "markdown",
      "source": [
        "2.Explain the concept of function arguments and parameters in Python."
      ],
      "metadata": {
        "id": "xPM0wECe2b-h"
      }
    },
    {
      "cell_type": "markdown",
      "source": [
        ">Concept of Functions :\n",
        "\n",
        ">1.  Parameters:\n",
        "\n",
        ">>Definition: Variables defined inside the function’s parentheses during its definition.\n",
        "\n",
        ">>Purpose: Act as placeholders to receive values when the function is called.\n",
        "\n",
        ">2. Arguments:\n",
        "\n",
        ">>Definition: The actual values or data passed to the function when calling it.\n",
        "\n",
        ">>Purpose: These are assigned to the parameters inside the function.\n",
        "\n",
        "Example:\n",
        "```\n",
        "# name and age are PARAMETERS\n",
        "def greet(name, age):\n",
        "    print(f\"Hello {name}, you are {age} years old.\")\n",
        "\n",
        "# \"Devansh\" and 21 are ARGUMENTS\n",
        "greet(\"Devansh\", 22)\n",
        "```"
      ],
      "metadata": {
        "id": "45ojgsgl2fCL"
      }
    },
    {
      "cell_type": "markdown",
      "source": [
        "3.What are the different ways to define and call a function in Python?\n"
      ],
      "metadata": {
        "id": "ejyfJ3J33k-7"
      }
    },
    {
      "cell_type": "markdown",
      "source": [
        "Different way to :\n",
        "\n",
        ">A.Defining a function :\n",
        "\n",
        ">>1. Standard Function (using def):\n",
        "\n",
        "```\n",
        "def greet():\n",
        "    print(\"Hello!\")\n",
        "```\n",
        ">>2. Function with Parameters:\n",
        "\n",
        "```\n",
        "def greet(name):\n",
        "    print(f\"Hello, {name}!\")\n",
        "```\n",
        ">>3. Function with Default Parameters:\n",
        "\n",
        "```\n",
        "def greet(name=\"Guest\"):\n",
        "    print(f\"Hello, {name}!\")\n",
        "```\n",
        ">>4. Variable-length Arguments (*args and **kwargs) :\n",
        "\n",
        "```\n",
        "def show_info(*args, **kwargs):\n",
        " print(args)\n",
        "    print(kwargs)\n",
        "```\n",
        ">>5. Lambda Function (Anonymous Function):\n",
        "\n",
        "```\n",
        "square = lambda x: x * x\n",
        "```\n",
        ">B.Calling a function:\n",
        "\n",
        ">>1. Without Arguments:\n",
        "\n",
        "```\n",
        "greet()\n",
        "```\n",
        ">>2. With Postional Arguments:\n",
        "\n",
        "```\n",
        "greet(\"Devansh\")\n",
        "```\n",
        ">>3. With Keyword Arguments\n",
        "\n",
        "```\n",
        "greet(name=\"Devansh\")\n",
        "```\n",
        "\n",
        ">>4. Unpacking Arguments:\n",
        "\n",
        "```\n",
        "data = (\"Sakshi\",)\n",
        "greet(*data)  # Unpacks tuple values\n",
        "\n",
        "details = {\"name\": \"Sakshi\"}\n",
        "greet(**details)  # Unpacks dictionary values\n",
        "```\n",
        "\n",
        ">>5. Calling Lambda Function:\n",
        "\n",
        "```\n",
        "print(square(5))\n",
        "```\n"
      ],
      "metadata": {
        "id": "KOfDuxBn3po2"
      }
    },
    {
      "cell_type": "markdown",
      "source": [
        "4.What is the purpose of the `return` statement in a Python function?"
      ],
      "metadata": {
        "id": "wESVj58c4Axg"
      }
    },
    {
      "cell_type": "markdown",
      "source": [
        ">The return statement in Python is used to send a value back from a function to the place where the function was called.\n",
        "\n",
        ">>Purpose of return\n",
        "\n",
        ">>1. Ends the function execution immediately.\n",
        "\n",
        ">>2. Passes data from the function to the caller.\n",
        "\n",
        ">>3. Allows you to store and use the function’s output later."
      ],
      "metadata": {
        "id": "Se5DsQ974w-R"
      }
    },
    {
      "cell_type": "markdown",
      "source": [
        "5.What are iterators in Python and how do they differ from iterables?\n",
        "\n"
      ],
      "metadata": {
        "id": "nOdel1DD46rV"
      }
    },
    {
      "cell_type": "markdown",
      "source": [
        "1.Iterables:\n",
        "\n",
        ">Definition: Objects capable of returning elements one at a time.\n",
        "\n",
        ">>Examples: Lists, tuples, strings, sets, dictionaries, ranges, etc.\n",
        "\n",
        ">>Requirement: Must have an __iter__() method.\n",
        "\n",
        "```\n",
        "my_list = [1, 2, 3]\n",
        "for num in my_list:  # my_list is iterable\n",
        "    print(num)\n",
        "```\n",
        "2.Iterators:\n",
        "\n",
        ">Definition: Objects that produce the next value of a sequence when requested.\n",
        "\n",
        ">>Examples: Objects returned by iter() function, file objects, generator objects.\n",
        "\n",
        ">>Requirement: Must have both:\n",
        "\n",
        ">>>__iter__() → returns the iterator object itself.\n",
        ">>>__next__() → returns the next item, raises StopIteration when no items are left.\n",
        "\n",
        "```\n",
        "my_list = [1, 2, 3]\n",
        "my_iter = iter(my_list)  # Convert iterable to iterator\n",
        "\n",
        "print(next(my_iter))  # 1\n",
        "print(next(my_iter))  # 2\n",
        "print(next(my_iter))  # 3\n",
        "# print(next(my_iter)) → StopIteration error\n",
        "```"
      ],
      "metadata": {
        "id": "YFv9mGWr5FZU"
      }
    },
    {
      "cell_type": "markdown",
      "source": [
        "6.Explain the concept of generators in Python and how they are defined.\n",
        "\n",
        ">Generators:\n",
        "\n",
        ">>Definition: Generators are special iterators that are defined using a function with the yield keyword instead of return.\n",
        "\n",
        ">>Purpose: They allow you to produce values one at a time, on demand, without storing the entire sequence in memory.\n",
        "\n",
        ">>Nature: They are lazy iterators, meaning values are generated only when requested.\n",
        "\n",
        ">>Reason to use : memory efficient, infinite sequences, faster for large data.\n",
        "\n",
        ">>Define a Generator:\n",
        "\n",
        ">>1. Use the def keyword to define a function.\n",
        "\n",
        ">>2. Use yield instead of return.\n",
        "\n",
        ">>3. When called, the function returns a generator object, not a value.\n",
        "```\n",
        "#simple Generator example:\n",
        "\n",
        "\n",
        "  \n",
        "     def count_up_to(n):\n",
        "     count = 1\n",
        "     while count <= n:\n",
        "        yield count  # Produces a value and pauses\n",
        "        count += 1\n",
        "\n",
        "#Create generator object\n",
        "      counter = count_up_to(3)\n",
        "\n",
        "      print(next(counter))  # 1\n",
        "      print(next(counter))  # 2\n",
        "      print(next(counter))  # 3\n",
        "      #print(next(counter)) → StopIteration\n",
        "```"
      ],
      "metadata": {
        "id": "u-jQvYB25tan"
      }
    },
    {
      "cell_type": "markdown",
      "source": [
        "7.What are the advantages of using generators over regular functions?"
      ],
      "metadata": {
        "id": "gqlzW50u8eOB"
      }
    },
    {
      "cell_type": "markdown",
      "source": [
        "Advantages of generators over regular function:\n",
        ">1. Memory Efficiency →\n",
        "\n",
        ">>Generators produce one item at a time instead of storing all results in memory, making them ideal for large datasets or infinite sequences.\n",
        "\n",
        ">2. Lazy Evaluation →\n",
        "\n",
        ">>Values are generated only when requested, which saves processing time and resources.\n",
        "\n",
        ">3. Infinite Sequences Support →\n",
        "\n",
        ">>Generators can represent endless streams (e.g., sensor readings, log files) without running out of memory.\n",
        "\n",
        ">4. Faster Start Time →\n",
        "\n",
        ">>Generators start producing output immediately without waiting for all calculations to finish."
      ],
      "metadata": {
        "id": "elUNkJ0m8foe"
      }
    },
    {
      "cell_type": "markdown",
      "source": [
        "8.What is a lambda function in Python and when is it typically used?"
      ],
      "metadata": {
        "id": "OuU6NRyJ8rBU"
      }
    },
    {
      "cell_type": "markdown",
      "source": [
        ">A lambda function in Python is a small, anonymous function created using the lambda keyword.\n",
        "\n",
        ">It can take multiple arguments but only has one expression whose result is returned.\n",
        "\n",
        ">Syntax: lambda arguments: expression.\n",
        "\n",
        ">They are typically used for short, quick tasks without defining a full function using def.\n",
        "\n",
        ">Commonly used with functions like map(), filter(), and sorted().\n",
        "\n",
        ">Example:\n",
        "```\n",
        "square = lambda x: x*x → square(5)\n",
        "```"
      ],
      "metadata": {
        "id": "DOIFsNSp8tQK"
      }
    },
    {
      "cell_type": "markdown",
      "source": [
        "9.Explain the purpose and usage of the `map()` function in Python.\n"
      ],
      "metadata": {
        "id": "4Xak5Xj89D3Q"
      }
    },
    {
      "cell_type": "markdown",
      "source": [
        ">The map() function in Python applies a given function to each item in an iterable (like list, tuple) and returns a map object (an iterator).\n",
        "\n",
        ">Its syntax is: map(function, iterable).\n",
        "\n",
        ">The function can be a normal def function or a lambda function.\n",
        "\n",
        ">You often wrap the result in list() or tuple() to see the values.\n",
        "\n",
        ">It is useful for performing transformations without writing explicit loops.\n",
        "\n",
        "Example:\n",
        "```\n",
        "list(map(lambda x: x*x, [1, 2, 3]))\n",
        "```"
      ],
      "metadata": {
        "id": "0FXxhuoo9IRd"
      }
    },
    {
      "cell_type": "markdown",
      "source": [
        "10.What is the difference between `map()`, `reduce()`, and `filter()` functions in Python?"
      ],
      "metadata": {
        "id": "ZKLn5OIM9NH2"
      }
    },
    {
      "cell_type": "markdown",
      "source": [
        ">1. map() → Applies a function to each element of an iterable.\n",
        "\n",
        ">>Returns an iterator with transformed elements.\n",
        "\n",
        ">2. filter() → Selects elements where the function returns True.\n",
        "\n",
        ">>Returns an iterator with only the filtered elements.\n",
        "\n",
        ">3. reduce() → Combines elements cumulatively using a function.\n",
        "\n",
        ">>Returns a single final result.\n",
        "\n",
        ">Example:\n",
        "\n",
        "\n",
        "```\n",
        "map(lambda x: x*2, [1,2,3])\n",
        "#output: [2,4,6]\n",
        "\n",
        "filter(lambda x: x>2, [1,2,3])\n",
        "#Output: [3]\n",
        "\n",
        "reduce(lambda x,y: x+y, [1,2,3])\n",
        "#Output: 6.\n",
        "```"
      ],
      "metadata": {
        "id": "WPFCSgT79UXG"
      }
    },
    {
      "cell_type": "markdown",
      "source": [
        "11. Using pen & Paper write the internal mechanism for sum operation using  reduce function on this given\n",
        "list:[47,11,42,13]."
      ],
      "metadata": {
        "id": "0AbYXuH39eiA"
      }
    },
    {
      "cell_type": "markdown",
      "source": [
        "Step-by-Step Mechanism of Summation with reduce()\n",
        "\n",
        "Import reduce from functools: First, we need to import the reduce function from the functools module.\n",
        "\n",
        ">from functools import reduce\n",
        "\n",
        ">>Define the Addition Function:\n",
        "\n",
        "We define a function that takes two arguments and returns their sum. This\n",
        "function will be used by reduce() to combine elements in the list\n",
        "\n",
        "       def add(x, y):\n",
        "       return x + y\n",
        "\n",
        ">>Initialize the List:\n",
        "\n",
        "We have the list of numbers we want to sum.\n",
        "\n",
        "       numbers = [47, 11, 42, 13]\n",
        "\n",
        "Apply reduce():\n",
        "\n",
        "We call the reduce() function, passing the addition function and the list of numbers. The\n",
        "reduce() function will apply the addition function cumulatively to the items of the iterable (the list).\n",
        "\n",
        "       total = reduce(add, numbers)\n",
        "\n",
        ">Internal Mechanism of reduce()\n",
        "\n",
        "Here's how the reduce() function works internally with the provided list:\n",
        "\n",
        ">> 1- Initial Call:\n",
        "\n",
        "- It takes the first two elements of the list: 47 and 11.\n",
        "\n",
        "- Calls add(47, 11) which returns 58.\n",
        "\n",
        ">> 2- Next Call:\n",
        "\n",
        "- The result 58 is then combined with the next element in the list: 42.\n",
        "\n",
        "- Calls add(58, 42) which returns 100.\n",
        "\n",
        ">> 3- Final Call:\n",
        "\n",
        "- The result 100 is then combined with the last element in the list: 13.\n",
        "\n",
        "- Calls add(100, 13) which returns 113.\n",
        "\n",
        ">Final Result\n",
        "\n",
        "After all the elements have been processed, reduce() returns the final cumulative result.\n",
        "\n",
        "         print(total) # Output: 113\n",
        "\n",
        "> Complete Example Code\n",
        "\n",
        "Putting it all together, here is the complete code to perform the sum operation using reduce():\n",
        "\n",
        "          from functools import reduce\n",
        "          #Define the addition function\n",
        "          def add(x, y):\n",
        "          return x + y\n",
        "          # Initialize the list\n",
        "          numbers = [47, 11, 42, 13]\n",
        "          # Use reduce to sum the numbers\n",
        "          total = reduce(add, numbers)\n",
        "          # Print the result\n",
        "          print(total) # Output: 113\n",
        "\n",
        "The reduce() function effectively processes the list by applying the add function in a cumulative manner,\n",
        "resulting in the total sum of all the elements in the list [47, 11, 42, 13], which is 113.\n",
        "\n",
        "\n",
        "\n",
        "\n",
        "\n"
      ],
      "metadata": {
        "id": "Oz-TEIvR9ncZ"
      }
    },
    {
      "cell_type": "markdown",
      "source": [
        "Practical Question"
      ],
      "metadata": {
        "id": "SEeOmLatAoQe"
      }
    },
    {
      "cell_type": "markdown",
      "source": [
        "Question 1- Write a Python function that takes a list of numbers as input and returns the sum of all even numbers in the list"
      ],
      "metadata": {
        "id": "cZ6YdmQFAs72"
      }
    },
    {
      "cell_type": "code",
      "source": [
        "def total(lst):\n",
        "  total_sum=0\n",
        "  for i in lst:\n",
        "    total_sum+=i\n",
        "  return total_sum\n",
        "\n",
        "lst=[11,2,3,2,6,67]\n",
        "ans=total(lst)\n",
        "print(\"Sum of the list is :\",ans)"
      ],
      "metadata": {
        "colab": {
          "base_uri": "https://localhost:8080/"
        },
        "id": "fgLVJtsWA5pr",
        "outputId": "f6dbaec1-1fd4-4ee5-ed8b-623f6438321a"
      },
      "execution_count": null,
      "outputs": [
        {
          "output_type": "stream",
          "name": "stdout",
          "text": [
            "Sum of the list is : 91\n"
          ]
        }
      ]
    },
    {
      "cell_type": "markdown",
      "source": [
        "Question 2- Create a Python function that accepts a string and returns the reverse of that string"
      ],
      "metadata": {
        "id": "ym8QS2dPA8Wh"
      }
    },
    {
      "cell_type": "code",
      "source": [
        "def reverse(string):\n",
        "  return string[::-1]\n",
        "\n",
        "\n",
        "string=input(\"Enter the string \")\n",
        "reverse_string=reverse(string)\n",
        "print(f\"Reverse of {string} is {reverse_string}\")"
      ],
      "metadata": {
        "colab": {
          "base_uri": "https://localhost:8080/"
        },
        "id": "OUhOWmaMBC7M",
        "outputId": "8fbe2a29-ae6c-4d05-a3e2-2fda5da00785"
      },
      "execution_count": null,
      "outputs": [
        {
          "output_type": "stream",
          "name": "stdout",
          "text": [
            "Enter the string Devansh\n",
            "Reverse of Devansh is hsnaveD\n"
          ]
        }
      ]
    },
    {
      "cell_type": "markdown",
      "source": [
        "Question 3 - Implement a Python function that takes a list of integers and returns a new list containing the squares of each number."
      ],
      "metadata": {
        "id": "C31D22rzBKFJ"
      }
    },
    {
      "cell_type": "code",
      "source": [
        "def square(lst):\n",
        "  new_lst=[]\n",
        "  for i in lst:\n",
        "    new_lst.append(i**2)\n",
        "  return new_lst\n",
        "\n",
        "lst=[1,2,3,4,5,6]\n",
        "new_lst=square(lst)\n",
        "print(f\"The square of numbers in {lst} is {new_lst}\")"
      ],
      "metadata": {
        "colab": {
          "base_uri": "https://localhost:8080/"
        },
        "id": "J4nzMTjMBPIO",
        "outputId": "7542c13b-c1ba-484b-be1f-62c2945f9449"
      },
      "execution_count": null,
      "outputs": [
        {
          "output_type": "stream",
          "name": "stdout",
          "text": [
            "The square of numbers in [1, 2, 3, 4, 5, 6] is [1, 4, 9, 16, 25, 36]\n"
          ]
        }
      ]
    },
    {
      "cell_type": "markdown",
      "source": [
        "Question 4- Write a Python function that checks if a given number is prime or not from 1 to 200."
      ],
      "metadata": {
        "id": "sI3BdFVbBihC"
      }
    },
    {
      "cell_type": "code",
      "source": [
        "from math import sqrt\n",
        "def primeNo(num):\n",
        "  if num==1 or num==0:\n",
        "    print(\"Not a prime number\")\n",
        "\n",
        "  for i in range(2,int(sqrt(num))+1):\n",
        "   if num%i==0:\n",
        "    return False\n",
        "\n",
        "  return True\n",
        "\n",
        "\n",
        "num=int(input(\"Enter a number between (1 to 200):\"))\n",
        "check=primeNo(num)\n",
        "print(f\"The {num} is a prime number : {check}\")"
      ],
      "metadata": {
        "colab": {
          "base_uri": "https://localhost:8080/"
        },
        "id": "7n4TlqdBBohn",
        "outputId": "9552cd1b-1df1-4612-eb02-415b14da3224"
      },
      "execution_count": null,
      "outputs": [
        {
          "output_type": "stream",
          "name": "stdout",
          "text": [
            "Enter a number between (1 to 200):49\n",
            "The 49 is a prime number : False\n"
          ]
        }
      ]
    },
    {
      "cell_type": "markdown",
      "source": [
        "Question 5- Create an iterator class in Python that generates the Fibonacci sequence up to a specified number of terms."
      ],
      "metadata": {
        "id": "ZyCtwZ7oBvmu"
      }
    },
    {
      "cell_type": "code",
      "source": [
        "def fibonacci_generator(n_terms):\n",
        "\n",
        "    a, b = 0, 1  # Initialize the first two Fibonacci numbers\n",
        "    count = 0\n",
        "\n",
        "    while count < n_terms:\n",
        "        yield a  # Yield the current Fibonacci number\n",
        "        a, b = b, a + b  # Update to the next pair of Fibonacci numbers\n",
        "        count += 1\n",
        "\n",
        "fib_gen = fibonacci_generator(10)\n",
        "\n",
        "print(\"First 10 Fibonacci numbers:\")\n",
        "for num in fib_gen:\n",
        "    print(num, end=\" \")"
      ],
      "metadata": {
        "colab": {
          "base_uri": "https://localhost:8080/"
        },
        "id": "ZKyIikOAB5hS",
        "outputId": "fe3a0e7f-ea17-4f27-ee66-dec9d400aeaa"
      },
      "execution_count": null,
      "outputs": [
        {
          "output_type": "stream",
          "name": "stdout",
          "text": [
            "First 10 Fibonacci numbers:\n",
            "0 1 1 2 3 5 8 13 21 34 "
          ]
        }
      ]
    },
    {
      "cell_type": "markdown",
      "source": [
        "Question 6- Write a generator function in Python that yields the powers of 2 up to a given exponent."
      ],
      "metadata": {
        "id": "5_uLBGntB7-M"
      }
    },
    {
      "cell_type": "code",
      "source": [
        "def max_exponent(num):\n",
        "  for i in  range(0,num+1):\n",
        "    a=2**i\n",
        "    yield a\n",
        "\n",
        "\n",
        "num=int(input(\"Enter the power of exponent : \"))\n",
        "gen=max_exponent(num)\n",
        "\n",
        "for _ in range(num+1):\n",
        "    print(next(gen))"
      ],
      "metadata": {
        "colab": {
          "base_uri": "https://localhost:8080/"
        },
        "id": "I7Vr5IAPCBOP",
        "outputId": "a53599c0-ef4c-431c-f6ba-31abf00c2dd5"
      },
      "execution_count": null,
      "outputs": [
        {
          "output_type": "stream",
          "name": "stdout",
          "text": [
            "Enter the power of exponent : 5\n",
            "1\n",
            "2\n",
            "4\n",
            "8\n",
            "16\n",
            "32\n"
          ]
        }
      ]
    },
    {
      "cell_type": "markdown",
      "source": [
        "Question 7- Implement a generator function that reads a file line by line and yields each line as a string.\n"
      ],
      "metadata": {
        "id": "8H9FjlPhCE0W"
      }
    },
    {
      "cell_type": "code",
      "source": [
        "def read_lines(file_content):\n",
        "    for line in file_content:\n",
        "        yield line.strip()  # remove any extra spaces/newlines\n",
        "\n",
        "# Simulated file content as a list of strings\n",
        "file = [\n",
        "    \"This is the first line\\n\",\n",
        "    \"This is the second line\\n\",\n",
        "    \"This is the third line\\n\"\n",
        "]\n",
        "\n",
        "# Using the generator\n",
        "for line in read_lines(file):\n",
        "    print(line)\n"
      ],
      "metadata": {
        "colab": {
          "base_uri": "https://localhost:8080/"
        },
        "id": "Vba-suRjCJ8E",
        "outputId": "a8361e63-591f-4ae2-9024-33ea00aedb89"
      },
      "execution_count": null,
      "outputs": [
        {
          "output_type": "stream",
          "name": "stdout",
          "text": [
            "This is the first line\n",
            "This is the second line\n",
            "This is the third line\n"
          ]
        }
      ]
    },
    {
      "cell_type": "markdown",
      "source": [
        "Question 8- Use a lambda function in Python to sort a list of tuples based on the second element of each tuple."
      ],
      "metadata": {
        "id": "clCjhP73CPDk"
      }
    },
    {
      "cell_type": "code",
      "source": [
        "data = [(1, 5), (3, 2), (2, 8), (4, 1)]\n",
        "# Sort based on second element using lambda\n",
        "sorted_list = sorted(data, key=lambda x: x[1])\n",
        "print(\"Original List:\", data)\n",
        "print(\"Sorted List:\", sorted_list)"
      ],
      "metadata": {
        "colab": {
          "base_uri": "https://localhost:8080/"
        },
        "id": "R12UM8yxCRgS",
        "outputId": "a69fa9a6-b133-447a-a942-f388c4227f8c"
      },
      "execution_count": null,
      "outputs": [
        {
          "output_type": "stream",
          "name": "stdout",
          "text": [
            "Original List: [(1, 5), (3, 2), (2, 8), (4, 1)]\n",
            "Sorted List: [(4, 1), (3, 2), (1, 5), (2, 8)]\n"
          ]
        }
      ]
    },
    {
      "cell_type": "markdown",
      "source": [
        "Question 9- Write a Python program that uses `map()` to convert a list of temperatures from Celsius to Fahrenheit."
      ],
      "metadata": {
        "id": "E2nfnLMiCWMY"
      }
    },
    {
      "cell_type": "code",
      "source": [
        "celsius = [0, 20, 37, 100]\n",
        "\n",
        "# Using map() with lambda\n",
        "fahrenheit = list(map(lambda c: (c * 9/5) + 32, celsius))\n",
        "\n",
        "# Output the result\n",
        "print(\"Celsius:   \", celsius)\n",
        "print(\"Fahrenheit:\", fahrenheit)"
      ],
      "metadata": {
        "colab": {
          "base_uri": "https://localhost:8080/"
        },
        "id": "9FnIEnXOChZf",
        "outputId": "a3ba9a1f-d05b-4ee5-dd76-94dff3dbda26"
      },
      "execution_count": null,
      "outputs": [
        {
          "output_type": "stream",
          "name": "stdout",
          "text": [
            "Celsius:    [0, 20, 37, 100]\n",
            "Fahrenheit: [32.0, 68.0, 98.6, 212.0]\n"
          ]
        }
      ]
    },
    {
      "cell_type": "markdown",
      "source": [
        "Question 10- Create a Python program that uses `filter()` to remove all the vowels from a given string."
      ],
      "metadata": {
        "id": "uV4mkDo2Ci7H"
      }
    },
    {
      "cell_type": "code",
      "source": [
        "string=input(\"enter the string :\")\n",
        "new_string=string.lower()\n",
        "\n",
        "vowels = ['a', 'e', 'i', 'o', 'u']\n",
        "filtered_string = ''.join(filter(lambda x: x not in vowels, new_string))\n",
        "\n",
        "print(\"Original string:\", string)\n",
        "print(\"Filtered string:\", filtered_string)"
      ],
      "metadata": {
        "colab": {
          "base_uri": "https://localhost:8080/"
        },
        "id": "hlWhZ_xTCmY4",
        "outputId": "edb935fe-b367-4dbf-a2fe-120aa59202de"
      },
      "execution_count": null,
      "outputs": [
        {
          "output_type": "stream",
          "name": "stdout",
          "text": [
            "enter the string :Devansh\n",
            "Original string: Devansh\n",
            "Filtered string: dvnsh\n"
          ]
        }
      ]
    },
    {
      "cell_type": "markdown",
      "source": [
        "Question 11- Imagine an accounting routine used in a book shop. It works on a list with sublists, which look like this:\n",
        "\n",
        "          Order Number    Book Title and Author              Quantity    Price per Item\n",
        "          34587           Learning Python, Mark Lutz         4           40.95\n",
        "          98762           Programming Python, Mark Lutz      5           56.80\n",
        "          77226           Head First Python, Paul Barry      3           32.95\n",
        "          88112           Einführung in Python3, Bernd Klein 3           24.99\n",
        "\n",
        "Write a Python program, which returns a list with 2-tuples. Each tuple consists of the order number and the product of the price per item and the quantity. The product should be increased by 10,- € if the value of the order is smaller than 100,00 €.\n",
        "\n",
        "Write a Python program using lambda and map.\n",
        "\n",
        "\n",
        "\n"
      ],
      "metadata": {
        "id": "-Gp9Q4IECwNU"
      }
    },
    {
      "cell_type": "code",
      "source": [
        "def process_orders(orders):\n",
        "    processed_orders = list(map(\n",
        "        lambda order: (order[0],(order[2] * order[3]) + 10 if order[0] < 100000 else (order[2] * order[3])),orders))\n",
        "    return processed_orders\n",
        "\n",
        "# Example data from the image\n",
        "book_orders = [\n",
        "    [34587, \"Learning Python, Mark Lutz\", 4, 40.95],\n",
        "    [98762, \"Programming Python, Mark Lutz\", 5, 56.80],\n",
        "    [77226, \"Head First Python, Paul Barry\", 3, 32.95],\n",
        "    [88112, \"Einführung in Python3, Bernd Klein\", 3, 24.99]\n",
        "]\n",
        "\n",
        "# Get the processed orders\n",
        "final_list = process_orders(book_orders)\n",
        "\n",
        "# Print the result\n",
        "print(\"(Oder number , total price(Quantity* price)):\",final_list)"
      ],
      "metadata": {
        "colab": {
          "base_uri": "https://localhost:8080/"
        },
        "id": "9g3XSlpUHTBG",
        "outputId": "aa8dfd8e-1cae-4468-aeb8-de9dba5b30a5"
      },
      "execution_count": null,
      "outputs": [
        {
          "output_type": "stream",
          "name": "stdout",
          "text": [
            "(Oder number , total price(Quantity* price)): [(34587, 173.8), (98762, 294.0), (77226, 108.85000000000001), (88112, 84.97)]\n"
          ]
        }
      ]
    }
  ]
}